{
 "cells": [
  {
   "cell_type": "code",
   "execution_count": 18,
   "id": "a617a22a-8bd1-432c-9dd2-7c22c79bd1af",
   "metadata": {},
   "outputs": [],
   "source": [
    "%load_ext autoreload\n",
    "%autoreload 2"
   ]
  },
  {
   "cell_type": "code",
   "execution_count": 19,
   "id": "16d4279d-8b83-427e-8c9a-f7e09c805103",
   "metadata": {},
   "outputs": [],
   "source": [
    "from pathlib import Path\n",
    "import pandas as pd\n",
    "import numpy as np\n",
    "import itertools\n",
    "from copy import copy\n",
    "from pprint import pprint\n",
    "import plotly.express as px\n",
    "import plotly.graph_objects as go\n",
    "from plotly.subplots import make_subplots\n",
    "\n",
    "import abc\n",
    "import sys\n",
    "import re\n",
    "sys.path.append(\"../\")\n",
    "import gpusims\n",
    "from gpusims.config import Config, parse_configs\n",
    "from gpusims.bench import parse_benchmarks"
   ]
  },
  {
   "cell_type": "code",
   "execution_count": 20,
   "id": "4b6b2101-e133-4d35-b06f-1a4bb2906112",
   "metadata": {},
   "outputs": [],
   "source": [
    "pd.set_option('display.max_rows', 500)\n",
    "pd.set_option('display.max_columns', 500)"
   ]
  },
  {
   "cell_type": "code",
   "execution_count": 21,
   "id": "1a54e1e5-a25c-4a1c-bf2e-5c42a1d16411",
   "metadata": {},
   "outputs": [],
   "source": [
    "root_dir = Path(\"/Users/roman/dev/gpgpusims\")\n",
    "benchmark_dir = root_dir / \"benchmarks\"\n",
    "run_dir = root_dir / \"run\"\n",
    "assert benchmark_dir.is_dir()\n",
    "assert run_dir.is_dir()"
   ]
  },
  {
   "cell_type": "code",
   "execution_count": 22,
   "id": "7d8e610e-18a1-4b33-9203-7616305b48f4",
   "metadata": {},
   "outputs": [
    {
     "name": "stdout",
     "output_type": "stream",
     "text": [
      "{'sm6_gtx1080': Config(name='SM6_GTX1080', path=PosixPath('/Users/roman/dev/gpgpusims/benchmarks/configs/SM6_GTX1080'), spec={'sm_count': 28, 'clock_speed': 1481}),\n",
      " 'sm86_rtx3070': Config(name='SM86_RTX3070', path=PosixPath('/Users/roman/dev/gpgpusims/benchmarks/configs/SM86_RTX3070'), spec={'sm_count': 46, 'clock_speed': 1132})}\n",
      "{'babelstream': Benchmark(/Users/roman/dev/gpgpusims/benchmarks/BabelStream),\n",
      " 'cuda10-matrixmul': Benchmark(/Users/roman/dev/gpgpusims/benchmarks/CUDA10-matrixMul),\n",
      " 'cuda10-transpose': Benchmark(/Users/roman/dev/gpgpusims/benchmarks/CUDA10-transpose),\n",
      " 'cuda4-matrixmul': Benchmark(/Users/roman/dev/gpgpusims/benchmarks/CUDA4-matrixMul),\n",
      " 'cuda6-transpose': Benchmark(/Users/roman/dev/gpgpusims/benchmarks/CUDA6-transpose),\n",
      " 'vectoradd': Benchmark(/Users/roman/dev/gpgpusims/benchmarks/vectorAdd)}\n",
      "{'accelsim-ptx': <class 'gpusims.accelsim.AccelSimPTXBenchmarkConfig'>,\n",
      " 'accelsim-sass': <class 'gpusims.accelsim_sass.AccelSimSASSBenchmarkConfig'>,\n",
      " 'm2s': <class 'gpusims.multi2sim.Multi2SimBenchmarkConfig'>,\n",
      " 'macsim': <class 'gpusims.macsim.MacSimBenchmarkConfig'>,\n",
      " 'native': <class 'gpusims.native.NativeBenchmarkConfig'>,\n",
      " 'tejas': <class 'gpusims.tejas.TejasBenchmarkConfig'>}\n"
     ]
    }
   ],
   "source": [
    "configs = parse_configs(benchmark_dir / \"configs\" / \"configs.yml\")\n",
    "benchmarks = parse_benchmarks(benchmark_dir / \"benchmarks.yml\")\n",
    "\n",
    "pprint(configs)\n",
    "pprint(benchmarks)\n",
    "pprint(gpusims.SIMULATORS)"
   ]
  },
  {
   "cell_type": "code",
   "execution_count": 23,
   "id": "68244716-1464-4238-83d5-29c944414f7d",
   "metadata": {},
   "outputs": [],
   "source": [
    "selected_simulators = copy(gpusims.SIMULATORS)\n",
    "selected_configs = copy(configs)\n",
    "selected_benchmarks = copy(benchmarks)"
   ]
  },
  {
   "cell_type": "code",
   "execution_count": 24,
   "id": "bfadbabf-efb2-4399-bebd-f3f1a9f9c8c8",
   "metadata": {},
   "outputs": [],
   "source": [
    "class PlotData:\n",
    "    def __init__(\n",
    "        self,\n",
    "        hw_df=None,\n",
    "        m2s_df=None,\n",
    "        macsim_df=None,\n",
    "        tejas_df=None,\n",
    "        accel_ptx_df=None,\n",
    "        accel_sass_df=None,\n",
    "    ):\n",
    "        self.config = config\n",
    "        self.hw_df = hw_df\n",
    "        self.m2s_df = m2s_df\n",
    "        self.macsim_df = macsim_df\n",
    "        self.tejas_df = tejas_df\n",
    "        self.accel_ptx_df = accel_ptx_df\n",
    "        self.accel_sass_df = accel_sass_df\n",
    "        \n",
    "    def __getitem__(self, key):\n",
    "        return getattr(self, key)\n",
    "\n",
    "    def __setitem__(self, key, value):\n",
    "        setattr(self, key, value)"
   ]
  },
  {
   "cell_type": "code",
   "execution_count": 25,
   "id": "1e78b6eb-5b35-4fff-896a-b3f76c2159ba",
   "metadata": {},
   "outputs": [],
   "source": [
    "colors= ['#0F8C79','#BD2D28','#E3BA22','#E6842A','#137B80','#8E6C8A','#9A3E25', '#E6842A']\n",
    "colors= [\"#5c0048\", \"#584588\", \"#3e78b7\", \"#39a8d1\", \"#70d5dd\", \"#b9ffe9\"]\n",
    "sim_color = {\n",
    "    \"GPUTejas\": colors[0],\n",
    "    \"AccelSim PTX\": colors[1],\n",
    "    \"AccelSim SASS\": colors[2],\n",
    "    \"Hardware\": colors[3],\n",
    "    \"Multi2Sim\": colors[4],\n",
    "    \"MacSim\": colors[5],\n",
    "}"
   ]
  },
  {
   "cell_type": "code",
   "execution_count": 26,
   "id": "139f789d-26b1-4980-acdc-f2287c72c734",
   "metadata": {},
   "outputs": [],
   "source": [
    "def plot_bars(config, bench, inp, data):\n",
    "    metrics = {\n",
    "        \"Cycles\": gpusims.plot.metrics.Cycles(data),\n",
    "        \"L2ReadHit\": gpusims.plot.metrics.L2ReadHit(data),\n",
    "        \"DRAMReads\": gpusims.plot.metrics.DRAMReads(data),\n",
    "        \"DRAMWrites\": gpusims.plot.metrics.DRAMWrites(data),\n",
    "        \"IPC\": gpusims.plot.metrics.IPC(data),\n",
    "        \"InstructionCount\": gpusims.plot.metrics.InstructionCount(data),\n",
    "    }\n",
    "    for metric_name, metric in metrics.items():\n",
    "        print(\"######\")\n",
    "        print(metric_name)\n",
    "        print(metric.compute())"
   ]
  },
  {
   "cell_type": "code",
   "execution_count": 27,
   "id": "c82aad90-5656-4227-8dd8-d6f8498c2fd1",
   "metadata": {},
   "outputs": [
    {
     "name": "stdout",
     "output_type": "stream",
     "text": [
      "kernels shape (1, 11)\n",
      "cycles shape (1, 592)\n",
      "inner join shape (1, 603)\n",
      "native False\n",
      "accelsim-ptx False\n",
      "accelsim-sass False\n",
      "tejas False\n",
      "macsim False\n"
     ]
    },
    {
     "ename": "AttributeError",
     "evalue": "module 'gpusims' has no attribute 'plot'",
     "output_type": "error",
     "traceback": [
      "\u001b[0;31m---------------------------------------------------------------------------\u001b[0m",
      "\u001b[0;31mAttributeError\u001b[0m                            Traceback (most recent call last)",
      "Cell \u001b[0;32mIn[27], line 27\u001b[0m\n\u001b[1;32m     20\u001b[0m         \u001b[38;5;28mprint\u001b[39m(sim_name, plot_data[sim_name] \u001b[38;5;129;01mis\u001b[39;00m \u001b[38;5;28;01mNone\u001b[39;00m)\n\u001b[1;32m     21\u001b[0m         \u001b[38;5;66;03m# plot_dasim_nameta[sim_name] = \u001b[39;00m\n\u001b[1;32m     22\u001b[0m         \u001b[38;5;66;03m# print(bench_config)\u001b[39;00m\n\u001b[1;32m     23\u001b[0m         \u001b[38;5;66;03m# for inp in benchmark.inputs:\u001b[39;00m\n\u001b[1;32m     24\u001b[0m         \u001b[38;5;66;03m#     fabs = bench_config.load_dataframe(inp)\u001b[39;00m\n\u001b[1;32m     25\u001b[0m         \u001b[38;5;66;03m# break\u001b[39;00m\n\u001b[1;32m     26\u001b[0m     \u001b[38;5;66;03m# all_plot_data.append((config, bench, inp, plot_data))\u001b[39;00m\n\u001b[0;32m---> 27\u001b[0m     \u001b[43mplot_bars\u001b[49m\u001b[43m(\u001b[49m\u001b[43mconfig\u001b[49m\u001b[43m,\u001b[49m\u001b[43m \u001b[49m\u001b[43mbench\u001b[49m\u001b[43m,\u001b[49m\u001b[43m \u001b[49m\u001b[43minp\u001b[49m\u001b[43m,\u001b[49m\u001b[43m \u001b[49m\u001b[43mplot_data\u001b[49m\u001b[43m)\u001b[49m\n\u001b[1;32m     28\u001b[0m     \u001b[38;5;28;01mbreak\u001b[39;00m\n\u001b[1;32m     29\u001b[0m \u001b[38;5;28;01mbreak\u001b[39;00m\n",
      "Cell \u001b[0;32mIn[26], line 3\u001b[0m, in \u001b[0;36mplot_bars\u001b[0;34m(config, bench, inp, data)\u001b[0m\n\u001b[1;32m      1\u001b[0m \u001b[38;5;28;01mdef\u001b[39;00m \u001b[38;5;21mplot_bars\u001b[39m(config, bench, inp, data):\n\u001b[1;32m      2\u001b[0m     metrics \u001b[38;5;241m=\u001b[39m {\n\u001b[0;32m----> 3\u001b[0m         \u001b[38;5;124m\"\u001b[39m\u001b[38;5;124mCycles\u001b[39m\u001b[38;5;124m\"\u001b[39m: \u001b[43mgpusims\u001b[49m\u001b[38;5;241;43m.\u001b[39;49m\u001b[43mplot\u001b[49m\u001b[38;5;241m.\u001b[39mmetrics\u001b[38;5;241m.\u001b[39mCycles(data),\n\u001b[1;32m      4\u001b[0m         \u001b[38;5;124m\"\u001b[39m\u001b[38;5;124mL2ReadHit\u001b[39m\u001b[38;5;124m\"\u001b[39m: gpusims\u001b[38;5;241m.\u001b[39mplot\u001b[38;5;241m.\u001b[39mmetrics\u001b[38;5;241m.\u001b[39mL2ReadHit(data),\n\u001b[1;32m      5\u001b[0m         \u001b[38;5;124m\"\u001b[39m\u001b[38;5;124mDRAMReads\u001b[39m\u001b[38;5;124m\"\u001b[39m: gpusims\u001b[38;5;241m.\u001b[39mplot\u001b[38;5;241m.\u001b[39mmetrics\u001b[38;5;241m.\u001b[39mDRAMReads(data),\n\u001b[1;32m      6\u001b[0m         \u001b[38;5;124m\"\u001b[39m\u001b[38;5;124mDRAMWrites\u001b[39m\u001b[38;5;124m\"\u001b[39m: gpusims\u001b[38;5;241m.\u001b[39mplot\u001b[38;5;241m.\u001b[39mmetrics\u001b[38;5;241m.\u001b[39mDRAMWrites(data),\n\u001b[1;32m      7\u001b[0m         \u001b[38;5;124m\"\u001b[39m\u001b[38;5;124mIPC\u001b[39m\u001b[38;5;124m\"\u001b[39m: gpusims\u001b[38;5;241m.\u001b[39mplot\u001b[38;5;241m.\u001b[39mmetrics\u001b[38;5;241m.\u001b[39mIPC(data),\n\u001b[1;32m      8\u001b[0m         \u001b[38;5;124m\"\u001b[39m\u001b[38;5;124mInstructionCount\u001b[39m\u001b[38;5;124m\"\u001b[39m: gpusims\u001b[38;5;241m.\u001b[39mplot\u001b[38;5;241m.\u001b[39mmetrics\u001b[38;5;241m.\u001b[39mInstructionCount(data),\n\u001b[1;32m      9\u001b[0m     }\n\u001b[1;32m     10\u001b[0m     \u001b[38;5;28;01mfor\u001b[39;00m metric_name, metric \u001b[38;5;129;01min\u001b[39;00m metrics\u001b[38;5;241m.\u001b[39mitems():\n\u001b[1;32m     11\u001b[0m         \u001b[38;5;28mprint\u001b[39m(\u001b[38;5;124m\"\u001b[39m\u001b[38;5;124m######\u001b[39m\u001b[38;5;124m\"\u001b[39m)\n",
      "\u001b[0;31mAttributeError\u001b[0m: module 'gpusims' has no attribute 'plot'"
     ]
    }
   ],
   "source": [
    "all_plot_data = []\n",
    "\n",
    "# per config, benchmark and input, plot bars for each simulator\n",
    "for (config_name, config), (bench_name, bench) in itertools.product(\n",
    "    selected_configs.items(),\n",
    "    selected_benchmarks.items()\n",
    "):\n",
    "    # if gpusims.NATIVE in selected_simulators and bench.enabled(gpusims.NATIVE):\n",
    "    for inp in bench.inputs:\n",
    "        plot_data = PlotData()\n",
    "        for (sim_name, sim) in selected_simulators.items():\n",
    "            if not bench.enabled(sim_name):\n",
    "                continue\n",
    "            bench_config = sim(\n",
    "                run_dir=run_dir / sim_name.lower(),\n",
    "                benchmark=bench,\n",
    "                config=config,\n",
    "            )\n",
    "            plot_data[sim_name] = bench_config.load_dataframe(inp)\n",
    "            print(sim_name, plot_data[sim_name] is None)\n",
    "            # plot_dasim_nameta[sim_name] = \n",
    "            # print(bench_config)\n",
    "            # for inp in benchmark.inputs:\n",
    "            #     fabs = bench_config.load_dataframe(inp)\n",
    "            # break\n",
    "        # all_plot_data.append((config, bench, inp, plot_data))\n",
    "        plot_bars(config, bench, inp, plot_data)\n",
    "        break\n",
    "    break\n",
    "\n",
    "plot_data"
   ]
  },
  {
   "cell_type": "code",
   "execution_count": 15,
   "id": "4b65a462-ab23-4d4b-871b-86225cb26b67",
   "metadata": {},
   "outputs": [
    {
     "name": "stdout",
     "output_type": "stream",
     "text": [
      "0 total benchmark configs\n"
     ]
    }
   ],
   "source": [
    "all_bench_configs = []\n",
    "\n",
    "for (sim_name, sim), (config_name, config), (bench_name, bench) in itertools.product(\n",
    "    selected_simulators.items(),\n",
    "    selected_configs.items(),\n",
    "    selected_benchmarks.items()\n",
    "):\n",
    "    if not bench.enabled(sim):\n",
    "        continue\n",
    "    \n",
    "    # for inp in bench:\n",
    "    #all_plot_configs.append(BenchmarkPlot(bench_config=sim(\n",
    "    #    run_dir=run_dir / sim_name.lower(),\n",
    "    #    benchmark=bench,\n",
    "    #    config=config,\n",
    "    #)))\n",
    "\n",
    "print(f\"{len(all_bench_configs)} total benchmark configs\")"
   ]
  },
  {
   "cell_type": "code",
   "execution_count": 14,
   "id": "8d6ed2af-36c5-47e5-ba1b-4bee5caeba19",
   "metadata": {},
   "outputs": [
    {
     "name": "stdout",
     "output_type": "stream",
     "text": [
      "kernels shape (1, 11)\n",
      "cycles shape (1, 592)\n",
      "inner join shape (1, 603)\n"
     ]
    },
    {
     "data": {
      "text/html": [
       "<div>\n",
       "<style scoped>\n",
       "    .dataframe tbody tr th:only-of-type {\n",
       "        vertical-align: middle;\n",
       "    }\n",
       "\n",
       "    .dataframe tbody tr th {\n",
       "        vertical-align: top;\n",
       "    }\n",
       "\n",
       "    .dataframe thead tr th {\n",
       "        text-align: left;\n",
       "    }\n",
       "</style>\n",
       "<table border=\"1\" class=\"dataframe\">\n",
       "  <thead>\n",
       "    <tr>\n",
       "      <th>Stream</th>\n",
       "      <th>7.0</th>\n",
       "    </tr>\n",
       "    <tr>\n",
       "      <th>Context</th>\n",
       "      <th>1.0</th>\n",
       "    </tr>\n",
       "    <tr>\n",
       "      <th>Device</th>\n",
       "      <th>NVIDIA GeForce GTX 1080 (0)</th>\n",
       "    </tr>\n",
       "    <tr>\n",
       "      <th>Kernel</th>\n",
       "      <th>_Z6vecAddPdS_S_i</th>\n",
       "    </tr>\n",
       "    <tr>\n",
       "      <th>Correlation_ID</th>\n",
       "      <th>112.0</th>\n",
       "    </tr>\n",
       "  </thead>\n",
       "  <tbody>\n",
       "    <tr>\n",
       "      <th>Block X</th>\n",
       "      <td>1024.0</td>\n",
       "    </tr>\n",
       "    <tr>\n",
       "      <th>Block Y</th>\n",
       "      <td>1.0</td>\n",
       "    </tr>\n",
       "    <tr>\n",
       "      <th>Block Z</th>\n",
       "      <td>1.0</td>\n",
       "    </tr>\n",
       "    <tr>\n",
       "      <th>Duration</th>\n",
       "      <td>3.626667</td>\n",
       "    </tr>\n",
       "    <tr>\n",
       "      <th>Dynamic SMem</th>\n",
       "      <td>0.0</td>\n",
       "    </tr>\n",
       "    <tr>\n",
       "      <th>...</th>\n",
       "      <td>...</td>\n",
       "    </tr>\n",
       "    <tr>\n",
       "      <th>warp_execution_efficiency_std</th>\n",
       "      <td>0.0</td>\n",
       "    </tr>\n",
       "    <tr>\n",
       "      <th>warp_nonpred_execution_efficiency</th>\n",
       "      <td>94.327446</td>\n",
       "    </tr>\n",
       "    <tr>\n",
       "      <th>warp_nonpred_execution_efficiency_max</th>\n",
       "      <td>94.327446</td>\n",
       "    </tr>\n",
       "    <tr>\n",
       "      <th>warp_nonpred_execution_efficiency_min</th>\n",
       "      <td>94.327446</td>\n",
       "    </tr>\n",
       "    <tr>\n",
       "      <th>warp_nonpred_execution_efficiency_std</th>\n",
       "      <td>0.0</td>\n",
       "    </tr>\n",
       "  </tbody>\n",
       "</table>\n",
       "<p>603 rows × 1 columns</p>\n",
       "</div>"
      ],
      "text/plain": [
       "Stream                                                        7.0\n",
       "Context                                                       1.0\n",
       "Device                                NVIDIA GeForce GTX 1080 (0)\n",
       "Kernel                                           _Z6vecAddPdS_S_i\n",
       "Correlation_ID                                              112.0\n",
       "Block X                                                    1024.0\n",
       "Block Y                                                       1.0\n",
       "Block Z                                                       1.0\n",
       "Duration                                                 3.626667\n",
       "Dynamic SMem                                                  0.0\n",
       "...                                                           ...\n",
       "warp_execution_efficiency_std                                 0.0\n",
       "warp_nonpred_execution_efficiency                       94.327446\n",
       "warp_nonpred_execution_efficiency_max                   94.327446\n",
       "warp_nonpred_execution_efficiency_min                   94.327446\n",
       "warp_nonpred_execution_efficiency_std                         0.0\n",
       "\n",
       "[603 rows x 1 columns]"
      ]
     },
     "execution_count": 14,
     "metadata": {},
     "output_type": "execute_result"
    }
   ],
   "source": [
    "for plot_config in all_bench_configs:\n",
    "    for inp in plot_config.bench_config.benchmark.inputs:\n",
    "        hw_df = plot.load_hardware_df(inp)\n",
    "        hw_df = plot.load_hardware_df(inp)\n",
    "        accel_sass_df = pd.read_csv(accel_sass_results / \"results/stats.csv\")\n",
    "print(\"accel sass shape\", accel_sass_df.shape)\n",
    "accel_sass_df = accel_sass_df.pivot(index=[\"kernel\", \"kernel_id\"], columns=[\"stat\"])[\"value\"]\n",
    "print(\"accel sass shape\", accel_sass_df.shape)\n",
    "# pprint(accel_df.columns.tolist())\n",
    "accel_sass_df.T\n",
    "        break\n",
    "    break\n",
    "hw_df.T\n",
    "# plot = all_bench_configs[0]"
   ]
  },
  {
   "cell_type": "code",
   "execution_count": 11,
   "id": "c02b3cab-74b4-4215-b3f7-dc6846cfeccf",
   "metadata": {},
   "outputs": [
    {
     "ename": "NameError",
     "evalue": "name 'pd' is not defined",
     "output_type": "error",
     "traceback": [
      "\u001b[0;31m---------------------------------------------------------------------------\u001b[0m",
      "\u001b[0;31mNameError\u001b[0m                                 Traceback (most recent call last)",
      "Cell \u001b[0;32mIn[11], line 2\u001b[0m\n\u001b[1;32m      1\u001b[0m plot \u001b[38;5;241m=\u001b[39m all_bench_configs[\u001b[38;5;241m0\u001b[39m]\n\u001b[0;32m----> 2\u001b[0m hw_df \u001b[38;5;241m=\u001b[39m \u001b[43mplot\u001b[49m\u001b[38;5;241;43m.\u001b[39;49m\u001b[43mload_hardware_df\u001b[49m\u001b[43m(\u001b[49m\u001b[43m)\u001b[49m\n",
      "File \u001b[0;32m~/dev/gpgpusims/notebooks/plot.py:9\u001b[0m, in \u001b[0;36mBenchmarkPlot.load_hardware_df\u001b[0;34m(self)\u001b[0m\n\u001b[1;32m      7\u001b[0m \u001b[38;5;28;01mdef\u001b[39;00m \u001b[38;5;21mload_hardware_df\u001b[39m(\u001b[38;5;28mself\u001b[39m):\n\u001b[1;32m      8\u001b[0m     results_dir \u001b[38;5;241m=\u001b[39m \u001b[38;5;28mself\u001b[39m\u001b[38;5;241m.\u001b[39mbench_config\u001b[38;5;241m.\u001b[39mpath \u001b[38;5;241m/\u001b[39m \u001b[38;5;124m\"\u001b[39m\u001b[38;5;124mresults\u001b[39m\u001b[38;5;124m\"\u001b[39m\n\u001b[0;32m----> 9\u001b[0m     \u001b[38;5;28;01mreturn\u001b[39;00m \u001b[43mload\u001b[49m\u001b[38;5;241;43m.\u001b[39;49m\u001b[43mbuild_hw_df\u001b[49m\u001b[43m(\u001b[49m\n\u001b[1;32m     10\u001b[0m \u001b[43m        \u001b[49m\u001b[43mcycle_csv_files\u001b[49m\u001b[38;5;241;43m=\u001b[39;49m\u001b[38;5;28;43mlist\u001b[39;49m\u001b[43m(\u001b[49m\u001b[43mresults_dir\u001b[49m\u001b[38;5;241;43m.\u001b[39;49m\u001b[43mrglob\u001b[49m\u001b[43m(\u001b[49m\u001b[38;5;124;43mr\u001b[39;49m\u001b[38;5;124;43m\"\u001b[39;49m\u001b[38;5;124;43mresult.cycles.csv.*\u001b[39;49m\u001b[38;5;124;43m\"\u001b[39;49m\u001b[43m)\u001b[49m\u001b[43m)\u001b[49m\u001b[43m,\u001b[49m\n\u001b[1;32m     11\u001b[0m \u001b[43m        \u001b[49m\u001b[43mkernel_csv_files\u001b[49m\u001b[38;5;241;43m=\u001b[39;49m\u001b[38;5;28;43mlist\u001b[39;49m\u001b[43m(\u001b[49m\u001b[43mresults_dir\u001b[49m\u001b[38;5;241;43m.\u001b[39;49m\u001b[43mrglob\u001b[49m\u001b[43m(\u001b[49m\u001b[38;5;124;43mr\u001b[39;49m\u001b[38;5;124;43m\"\u001b[39;49m\u001b[38;5;124;43mresult.csv.*\u001b[39;49m\u001b[38;5;124;43m\"\u001b[39;49m\u001b[43m)\u001b[49m\u001b[43m)\u001b[49m\u001b[43m,\u001b[49m\n\u001b[1;32m     12\u001b[0m \u001b[43m    \u001b[49m\u001b[43m)\u001b[49m\n",
      "File \u001b[0;32m~/dev/gpgpusims/notebooks/load.py:67\u001b[0m, in \u001b[0;36mbuild_hw_df\u001b[0;34m(kernel_csv_files, cycle_csv_files)\u001b[0m\n\u001b[1;32m     64\u001b[0m \u001b[38;5;28;01mdef\u001b[39;00m \u001b[38;5;21mbuild_hw_df\u001b[39m(kernel_csv_files, cycle_csv_files):\n\u001b[1;32m     65\u001b[0m     \u001b[38;5;66;03m# pprint(kernel_csv_files)\u001b[39;00m\n\u001b[1;32m     66\u001b[0m     \u001b[38;5;66;03m# pprint(cycle_csv_files)\u001b[39;00m\n\u001b[0;32m---> 67\u001b[0m     kernel_df \u001b[38;5;241m=\u001b[39m \u001b[43mbuild_hw_kernel_df\u001b[49m\u001b[43m(\u001b[49m\u001b[43mkernel_csv_files\u001b[49m\u001b[43m)\u001b[49m\n\u001b[1;32m     68\u001b[0m     \u001b[38;5;28mprint\u001b[39m(\u001b[38;5;124m\"\u001b[39m\u001b[38;5;124mkernels shape\u001b[39m\u001b[38;5;124m\"\u001b[39m, kernel_df\u001b[38;5;241m.\u001b[39mshape)\n\u001b[1;32m     69\u001b[0m     cycle_df \u001b[38;5;241m=\u001b[39m build_hw_cycles_df(cycle_csv_files)\n",
      "File \u001b[0;32m~/dev/gpgpusims/notebooks/load.py:4\u001b[0m, in \u001b[0;36mbuild_hw_kernel_df\u001b[0;34m(csv_files)\u001b[0m\n\u001b[1;32m      3\u001b[0m \u001b[38;5;28;01mdef\u001b[39;00m \u001b[38;5;21mbuild_hw_kernel_df\u001b[39m(csv_files):\n\u001b[0;32m----> 4\u001b[0m     hw_kernel_df \u001b[38;5;241m=\u001b[39m \u001b[43mpd\u001b[49m\u001b[38;5;241m.\u001b[39mconcat([pd\u001b[38;5;241m.\u001b[39mread_csv(csv) \u001b[38;5;28;01mfor\u001b[39;00m csv \u001b[38;5;129;01min\u001b[39;00m csv_files], ignore_index\u001b[38;5;241m=\u001b[39m\u001b[38;5;28;01mFalse\u001b[39;00m)\n\u001b[1;32m      5\u001b[0m     \u001b[38;5;66;03m# print(hw_kernel_df)\u001b[39;00m\n\u001b[1;32m      6\u001b[0m     \u001b[38;5;66;03m# remove the units\u001b[39;00m\n\u001b[1;32m      7\u001b[0m     hw_kernel_df \u001b[38;5;241m=\u001b[39m hw_kernel_df[\u001b[38;5;241m~\u001b[39mhw_kernel_df[\u001b[38;5;124m\"\u001b[39m\u001b[38;5;124mCorrelation_ID\u001b[39m\u001b[38;5;124m\"\u001b[39m]\u001b[38;5;241m.\u001b[39misnull()]\n",
      "\u001b[0;31mNameError\u001b[0m: name 'pd' is not defined"
     ]
    }
   ],
   "source": [
    "plot = all_bench_configs[0]\n",
    "hw_df = plot.load_hardware_df()"
   ]
  },
  {
   "cell_type": "code",
   "execution_count": null,
   "id": "e90db303-50a1-44fe-bc98-dd1086539f69",
   "metadata": {},
   "outputs": [],
   "source": [
    "hw_df = build_hw_df(\n",
    "    cycle_csv_files=list((native_results / \"results\").rglob(r\"result.cycles.csv.*\")),\n",
    "    kernel_csv_files=list((native_results / \"results\").rglob(r\"result.csv.*\")),\n",
    ")\n",
    "hw_df.T"
   ]
  }
 ],
 "metadata": {
  "kernelspec": {
   "display_name": "Python 3 (ipykernel)",
   "language": "python",
   "name": "python3"
  },
  "language_info": {
   "codemirror_mode": {
    "name": "ipython",
    "version": 3
   },
   "file_extension": ".py",
   "mimetype": "text/x-python",
   "name": "python",
   "nbconvert_exporter": "python",
   "pygments_lexer": "ipython3",
   "version": "3.9.15"
  }
 },
 "nbformat": 4,
 "nbformat_minor": 5
}
