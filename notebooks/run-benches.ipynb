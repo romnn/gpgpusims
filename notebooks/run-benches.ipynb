{
 "cells": [
  {
   "cell_type": "code",
   "execution_count": null,
   "id": "32fad835-1cc0-438a-a880-e1d8827f7616",
   "metadata": {},
   "outputs": [],
   "source": [
    "import sys\n",
    "import os\n",
    "import re\n",
    "import subprocess as sp\n",
    "from pprint import pprint\n",
    "from pathlib import Path\n",
    "import yaml"
   ]
  },
  {
   "cell_type": "code",
   "execution_count": null,
   "id": "f3389a7e-5eb5-41c0-ad1f-0b20c9e79f59",
   "metadata": {},
   "outputs": [],
   "source": [
    "# benchmark_dir = Path(\"/home/roman/dev/gpgpusims/benchmarks\")\n",
    "benchmark_dir = Path(\"/Users/roman/dev/gpgpusims/benchmarks\")"
   ]
  },
  {
   "cell_type": "code",
   "execution_count": null,
   "id": "03480248-d41e-4bee-a3bc-a0975362c657",
   "metadata": {},
   "outputs": [],
   "source": [
    "def exit(status, msg=None):\n",
    "    if msg:\n",
    "        print(msg)\n",
    "    # sys.exit(status)"
   ]
  },
  {
   "cell_type": "code",
   "execution_count": 89,
   "id": "daf00976-5bd5-4e27-9e3d-991e3b7b5a7b",
   "metadata": {},
   "outputs": [],
   "source": [
    "# command line options (wip)\n",
    "\n",
    "class Options:\n",
    "    run_dir = benchmark_dir.parent / \"run\"\n",
    "    benchmarks = \"\"\n",
    "    simulator = \"accelsim\"\n",
    "    \n",
    "options = Options()"
   ]
  },
  {
   "cell_type": "code",
   "execution_count": 90,
   "id": "76e62621-b8da-41b0-95f0-fb430de2d1e9",
   "metadata": {},
   "outputs": [],
   "source": [
    "def get_cuda_version():\n",
    "    stdout = sp.check_output([\"nvcc\", \"--version\"])\n",
    "    # print(stdout.decode(\"utf-8\"))\n",
    "    cuda_version = re.search(r\".*release (\\d+\\.\\d+).*\", stdout.decode(\"utf-8\"))\n",
    "    if cuda_version is not None:\n",
    "        return cuda_version.group(1)\n",
    "    return None"
   ]
  },
  {
   "cell_type": "code",
   "execution_count": 91,
   "id": "b60ba568-fef3-4cc6-99a5-36aaa943fe25",
   "metadata": {},
   "outputs": [],
   "source": [
    "class Config:\n",
    "    def __init__(self, name, path):\n",
    "        assert path.is_dir()\n",
    "        self.name = name\n",
    "        self.path = path\n",
    "        \n",
    "def parse_configs(path):\n",
    "    configs = []\n",
    "    with open(path, \"r\") as f:\n",
    "        configs_yaml = yaml.load(f, Loader=yaml.FullLoader)\n",
    "        # pprint(configs_yaml)\n",
    "        for name, config in configs_yaml.items():\n",
    "            configs.append(Config(\n",
    "                name=name,\n",
    "                path=path.parent / config[\"path\"],\n",
    "            ))\n",
    "    return configs"
   ]
  },
  {
   "cell_type": "code",
   "execution_count": 92,
   "id": "b33e9e9e-a322-49a3-b6b2-99393d083a34",
   "metadata": {},
   "outputs": [],
   "source": [
    "class Benchmark:\n",
    "    def __init__(self, name, path, executable, inputs=[]):\n",
    "        assert path.is_dir()\n",
    "        self.name = name\n",
    "        self.path = path\n",
    "        self.executable = executable\n",
    "        self.inputs = inputs\n",
    "        \n",
    "def parse_benchmarks(path):\n",
    "    benchmarks = []\n",
    "    with open(path, \"r\") as f:\n",
    "        benchmarks_yaml = yaml.load(f, Loader=yaml.FullLoader)\n",
    "        # pprint(benchmarks_yaml)\n",
    "        for name, config in benchmarks_yaml.items():\n",
    "            benchmarks.append(Benchmark(\n",
    "                name = name,\n",
    "                path=path.parent / config[\"path\"],\n",
    "                executable = config[\"executable\"],\n",
    "                inputs = config[\"inputs\"],\n",
    "            ))\n",
    "    return benchmarks"
   ]
  },
  {
   "cell_type": "code",
   "execution_count": 93,
   "id": "66c85922-ce67-41f1-bcc9-88be0d4ad082",
   "metadata": {},
   "outputs": [
    {
     "ename": "SyntaxError",
     "evalue": "invalid syntax (559264611.py, line 5)",
     "output_type": "error",
     "traceback": [
      "\u001b[0;36m  Cell \u001b[0;32mIn[93], line 5\u001b[0;36m\u001b[0m\n\u001b[0;31m    self.run_dir = #todo compute\u001b[0m\n\u001b[0m                   ^\u001b[0m\n\u001b[0;31mSyntaxError\u001b[0m\u001b[0;31m:\u001b[0m invalid syntax\n"
     ]
    }
   ],
   "source": [
    "class BenchmarkConfig:\n",
    "    def __init__(self, benchmark, config, run_dir=None):\n",
    "        self.benchmark = benchmark\n",
    "        self.config = config\n",
    "        self.run_dir = #todo compute\n",
    "    \n",
    "    def setup(self):\n",
    "        \"\"\"setup the benchmark in given run dir\"\"\"\n",
    "        # self.run_dir.mkdir(parents=True, exist_ok=True)\n",
    "        # copy files to run dir\n",
    "        benchmark_files = list(self.benchmark.path.rglob(\"*\"))\n",
    "        pprint(benchmark_files)\n",
    "        # copy config to run dir\n",
    "        config_files = list(self.config.path.rglob(\"*\"))\n",
    "        pprint(config_files)\n",
    "        "
   ]
  },
  {
   "cell_type": "code",
   "execution_count": 94,
   "id": "5a74796a-a33b-455a-93ea-0e2d19c7d746",
   "metadata": {},
   "outputs": [
    {
     "name": "stdout",
     "output_type": "stream",
     "text": [
      "10.1\n",
      "/home/roman/dev/gpgpusims/run\n",
      "[<__main__.Config object at 0x7f58afe8c040>]\n",
      "[<__main__.Benchmark object at 0x7f58affa28e0>,\n",
      " <__main__.Benchmark object at 0x7f58afebeaf0>]\n",
      "/home/roman/dev/gpgpusims/run/accelsim\n"
     ]
    }
   ],
   "source": [
    "# main func\n",
    "if str(os.environ.get(\"GPGPUSIM_SETUP_ENVIRONMENT_WAS_RUN\")) != \"1\":\n",
    "    exit(\"ERROR - Please run setup_environment before running this script\")\n",
    "    \n",
    "cuda_version = get_cuda_version()\n",
    "print(cuda_version)\n",
    "\n",
    "print(options.run_dir)\n",
    "\n",
    "configs = parse_configs(benchmark_dir / \"configs\" / \"configs.yml\")\n",
    "pprint(configs)\n",
    "\n",
    "benchmarks = parse_benchmarks(benchmark_dir / \"benchmarks.yml\")\n",
    "pprint(benchmarks)\n",
    "\n",
    "run_dir = options.run_dir / options.simulator\n",
    "print(run_dir)\n",
    "# todo: make run dir"
   ]
  },
  {
   "cell_type": "code",
   "execution_count": null,
   "id": "bae9321a-42a8-4801-9870-b3df8651410d",
   "metadata": {},
   "outputs": [],
   "source": []
  },
  {
   "cell_type": "code",
   "execution_count": null,
   "id": "831b0af6-4cfd-47b4-bca0-e4e6f749f1ad",
   "metadata": {},
   "outputs": [],
   "source": []
  }
 ],
 "metadata": {
  "kernelspec": {
   "display_name": "Python 3 (ipykernel)",
   "language": "python",
   "name": "python3"
  },
  "language_info": {
   "codemirror_mode": {
    "name": "ipython",
    "version": 3
   },
   "file_extension": ".py",
   "mimetype": "text/x-python",
   "name": "python",
   "nbconvert_exporter": "python",
   "pygments_lexer": "ipython3",
   "version": "3.8.10"
  }
 },
 "nbformat": 4,
 "nbformat_minor": 5
}
